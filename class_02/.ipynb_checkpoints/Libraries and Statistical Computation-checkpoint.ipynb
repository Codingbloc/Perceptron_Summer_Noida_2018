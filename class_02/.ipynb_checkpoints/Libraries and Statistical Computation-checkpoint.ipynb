{
 "cells": [
  {
   "cell_type": "markdown",
   "metadata": {},
   "source": [
    "# Libraries to be used\n",
    "\n",
    "- Numpy\n",
    "- Matplotlib\n",
    "- Pandas\n",
    "- OpenCV"
   ]
  },
  {
   "cell_type": "code",
   "execution_count": 1,
   "metadata": {
    "collapsed": true
   },
   "outputs": [],
   "source": [
    "# Import the libraries"
   ]
  },
  {
   "cell_type": "markdown",
   "metadata": {},
   "source": [
    "## Numpy Arrays and Operations"
   ]
  },
  {
   "cell_type": "code",
   "execution_count": 2,
   "metadata": {
    "collapsed": true
   },
   "outputs": [],
   "source": [
    "# Convert lists to numpy arrays\n",
    "# Create New numpy arrays\n",
    "# Copy numpy arrays\n",
    "# Shapes of numpy arrays and multi-dimensional arrays\n",
    "# Random numpy arrays\n",
    "# Reshape, Transpose, Concatenate numpy arrays"
   ]
  },
  {
   "cell_type": "markdown",
   "metadata": {},
   "source": [
    "## Matplotlib"
   ]
  },
  {
   "cell_type": "code",
   "execution_count": 3,
   "metadata": {
    "collapsed": true
   },
   "outputs": [],
   "source": [
    "# plot simple ranges"
   ]
  },
  {
   "cell_type": "code",
   "execution_count": 4,
   "metadata": {
    "collapsed": true
   },
   "outputs": [],
   "source": [
    "# Scatter plot of line"
   ]
  },
  {
   "cell_type": "code",
   "execution_count": 5,
   "metadata": {
    "collapsed": true
   },
   "outputs": [],
   "source": [
    "# Random Scatter plot"
   ]
  },
  {
   "cell_type": "code",
   "execution_count": 6,
   "metadata": {
    "collapsed": true
   },
   "outputs": [],
   "source": [
    "# Plot sine wave, cosine wave, and some lines with subplot"
   ]
  },
  {
   "cell_type": "markdown",
   "metadata": {},
   "source": [
    "## OpenCV and Scikit-Image"
   ]
  },
  {
   "cell_type": "code",
   "execution_count": 7,
   "metadata": {
    "collapsed": true
   },
   "outputs": [],
   "source": [
    "# Loading an image\n",
    "# Dispalying an image\n",
    "# R, G, and B channels\n",
    "# Convert image to grayscale\n",
    "# Resize image"
   ]
  },
  {
   "cell_type": "markdown",
   "metadata": {},
   "source": [
    "## Pandas"
   ]
  },
  {
   "cell_type": "code",
   "execution_count": 8,
   "metadata": {
    "collapsed": true
   },
   "outputs": [],
   "source": [
    "# Load the movie meta-data dataset\n",
    "# Display first 5 rows"
   ]
  },
  {
   "cell_type": "code",
   "execution_count": 9,
   "metadata": {
    "collapsed": true
   },
   "outputs": [],
   "source": [
    "# Get the values as numpy array and check shape"
   ]
  },
  {
   "cell_type": "code",
   "execution_count": 10,
   "metadata": {
    "collapsed": true
   },
   "outputs": [],
   "source": [
    "# Print all columns"
   ]
  },
  {
   "cell_type": "code",
   "execution_count": 11,
   "metadata": {
    "collapsed": true
   },
   "outputs": [],
   "source": [
    "# Print a few movie titles\n",
    "# titles = ds.get('movie_title')"
   ]
  },
  {
   "cell_type": "markdown",
   "metadata": {},
   "source": [
    "# Statistical Computation\n",
    "\n",
    "__Question__: What type of distribution will be get if we collect a large enough sample size from any set and get the frequency of each item?"
   ]
  },
  {
   "cell_type": "code",
   "execution_count": 12,
   "metadata": {
    "collapsed": true
   },
   "outputs": [],
   "source": [
    "# Create and plot frequency of each title length\n",
    "# Disucss about the plot"
   ]
  },
  {
   "cell_type": "code",
   "execution_count": 13,
   "metadata": {
    "collapsed": true
   },
   "outputs": [],
   "source": [
    "# Mean, Variance, Standard Deviation in the above lengths list"
   ]
  },
  {
   "cell_type": "markdown",
   "metadata": {},
   "source": [
    "### Mean, Variance, Std. Dev.\n",
    "\n",
    "Mean:\n",
    "\n",
    "$$\\mu = \\frac{\\sum_{i}{x_i}}{N}$$\n",
    "\n",
    "Variance:\n",
    "\n",
    "$$ Var(x) = \\frac{\\sum_i(x_i - \\mu)^2}{N} $$\n",
    "\n",
    "Std. deviation:\n",
    "\n",
    "$$ \\sigma_x = \\sqrt{\\frac{\\sum_i(x_i - \\mu)^2}{N}} $$\n",
    "\n",
    "### Co-Variance\n",
    "\n",
    "$$\n",
    "\\Sigma = \n",
    "\\begin{bmatrix}\n",
    "    \\sigma^2_{11}       & \\sigma^2_{12} & \\sigma^2_{13} & \\dots & \\sigma^2_{1n} \\\\\n",
    "    \\sigma^2_{21}       & \\sigma^2_{22} & \\sigma^2_{23} & \\dots & \\sigma^2_{2n} \\\\\n",
    "    \\dots \\\\\n",
    "    \\sigma^2_{n1}       & \\sigma^2_{n2} & \\sigma^2_{n3} & \\dots & \\sigma^2_{nn}\n",
    "\\end{bmatrix}\n",
    "$$"
   ]
  },
  {
   "cell_type": "markdown",
   "metadata": {},
   "source": [
    "1. __Random Variable__\n",
    "2. __Distribution Function__:\n",
    "    - The _cumulative distribution function_: $F_X(x) = \\mathbb{P}(X \\leq x)$\n",
    "    - Bernoulli Distribution function: $f(x) = p^x(1-p)^{1-x};   x \\in \\{0, 1\\}$\n",
    "    - Binomial distribution...\n",
    "3. __Normal Distribution__:\n",
    "$$ f(x) = \\frac{1}{\\sigma \\sqrt{2 \\pi}} exp\\{- \\frac{1}{2 \\sigma^2} (x - \\mu)^2 \\} $$\n",
    "4. __Standard Normal Distribution__"
   ]
  },
  {
   "cell_type": "code",
   "execution_count": 14,
   "metadata": {
    "collapsed": true
   },
   "outputs": [],
   "source": [
    "# Generating random numbers"
   ]
  },
  {
   "cell_type": "code",
   "execution_count": 15,
   "metadata": {
    "collapsed": true
   },
   "outputs": [],
   "source": [
    "# Plot Random numbers as scatter plot"
   ]
  },
  {
   "cell_type": "code",
   "execution_count": 16,
   "metadata": {
    "collapsed": true
   },
   "outputs": [],
   "source": [
    "# Generate Normal distribution in 2D"
   ]
  },
  {
   "cell_type": "code",
   "execution_count": 17,
   "metadata": {
    "collapsed": true
   },
   "outputs": [],
   "source": [
    "# Convert to Standard Normal Distribution"
   ]
  },
  {
   "cell_type": "code",
   "execution_count": null,
   "metadata": {
    "collapsed": true
   },
   "outputs": [],
   "source": []
  }
 ],
 "metadata": {
  "kernelspec": {
   "display_name": "Python 2",
   "language": "python",
   "name": "python2"
  },
  "language_info": {
   "codemirror_mode": {
    "name": "ipython",
    "version": 2
   },
   "file_extension": ".py",
   "mimetype": "text/x-python",
   "name": "python",
   "nbconvert_exporter": "python",
   "pygments_lexer": "ipython2",
   "version": "2.7.12"
  }
 },
 "nbformat": 4,
 "nbformat_minor": 2
}
